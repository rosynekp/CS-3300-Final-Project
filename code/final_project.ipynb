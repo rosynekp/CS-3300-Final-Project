{
 "cells": [
  {
   "attachments": {},
   "cell_type": "markdown",
   "metadata": {},
   "source": [
    "### **CS 3300 - Final Project**\n",
    "\n",
    "###### Paige Rosynek & Xavier Robbins"
   ]
  },
  {
   "attachments": {},
   "cell_type": "markdown",
   "metadata": {},
   "source": [
    "#### **Import Libraries**"
   ]
  },
  {
   "cell_type": "code",
<<<<<<< HEAD
<<<<<<< HEAD
   "execution_count": null,
=======
   "execution_count": 53,
>>>>>>> 155963aa01cb9c3f459f00c77f346f169606d1c1
=======
   "execution_count": null,
>>>>>>> 10441f79247acd685638787c7e29b2740ca23b7a
   "metadata": {},
   "outputs": [],
   "source": [
    "import pandas as pd\n",
    "import numpy as np\n",
    "import matplotlib.pyplot as plt\n",
    "import seaborn as sns\n",
    "import json\n",
    "import nlp_functions\n",
    "from sklearn.feature_extraction.text import TfidfVectorizer, CountVectorizer\n",
    "from sklearn.metrics.pairwise import cosine_similarity\n",
    "from sklearn.pipeline import Pipeline\n",
    "from sklearn.svm import LinearSVC\n",
    "import spacy"
   ]
  },
  {
   "attachments": {},
   "cell_type": "markdown",
   "metadata": {},
   "source": [
    "#### **Data Cleaning**"
   ]
  },
  {
   "attachments": {},
   "cell_type": "markdown",
   "metadata": {},
   "source": [
    "**Import the Data**"
   ]
  },
  {
   "cell_type": "code",
<<<<<<< HEAD
<<<<<<< HEAD
   "execution_count": null,
=======
   "execution_count": 54,
>>>>>>> 155963aa01cb9c3f459f00c77f346f169606d1c1
=======
   "execution_count": null,
>>>>>>> 10441f79247acd685638787c7e29b2740ca23b7a
   "metadata": {},
   "outputs": [],
   "source": [
    "trending_df = pd.read_csv('../data/US_youtube_trending_data.csv')"
   ]
  },
  {
   "cell_type": "code",
<<<<<<< HEAD
<<<<<<< HEAD
   "execution_count": null,
=======
   "execution_count": 55,
>>>>>>> 155963aa01cb9c3f459f00c77f346f169606d1c1
=======
   "execution_count": null,
>>>>>>> 10441f79247acd685638787c7e29b2740ca23b7a
   "metadata": {},
   "outputs": [],
   "source": [
    "# load data using Python JSON module\n",
    "with open('../data/US_category_id.json','r') as f:\n",
    "    data = json.loads(f.read())\n",
    "    \n",
    "category_df = pd.json_normalize(data, record_path=['items'])"
   ]
  },
  {
   "cell_type": "code",
<<<<<<< HEAD
<<<<<<< HEAD
   "execution_count": null,
   "metadata": {},
   "outputs": [],
=======
   "execution_count": 56,
   "metadata": {},
   "outputs": [
    {
     "data": {
      "text/html": [
       "<div>\n",
       "<style scoped>\n",
       "    .dataframe tbody tr th:only-of-type {\n",
       "        vertical-align: middle;\n",
       "    }\n",
       "\n",
       "    .dataframe tbody tr th {\n",
       "        vertical-align: top;\n",
       "    }\n",
       "\n",
       "    .dataframe thead th {\n",
       "        text-align: right;\n",
       "    }\n",
       "</style>\n",
       "<table border=\"1\" class=\"dataframe\">\n",
       "  <thead>\n",
       "    <tr style=\"text-align: right;\">\n",
       "      <th></th>\n",
       "      <th>video_id</th>\n",
       "      <th>title</th>\n",
       "      <th>publishedAt</th>\n",
       "      <th>channelId</th>\n",
       "      <th>channelTitle</th>\n",
       "      <th>categoryId</th>\n",
       "      <th>trending_date</th>\n",
       "      <th>tags</th>\n",
       "      <th>view_count</th>\n",
       "      <th>likes</th>\n",
       "      <th>dislikes</th>\n",
       "      <th>comment_count</th>\n",
       "      <th>thumbnail_link</th>\n",
       "      <th>comments_disabled</th>\n",
       "      <th>ratings_disabled</th>\n",
       "      <th>description</th>\n",
       "    </tr>\n",
       "  </thead>\n",
       "  <tbody>\n",
       "    <tr>\n",
       "      <th>0</th>\n",
       "      <td>3C66w5Z0ixs</td>\n",
       "      <td>I ASKED HER TO BE MY GIRLFRIEND...</td>\n",
       "      <td>2020-08-11T19:20:14Z</td>\n",
       "      <td>UCvtRTOMP2TqYqu51xNrqAzg</td>\n",
       "      <td>Brawadis</td>\n",
       "      <td>22</td>\n",
       "      <td>2020-08-12T00:00:00Z</td>\n",
       "      <td>brawadis|prank|basketball|skits|ghost|funny vi...</td>\n",
       "      <td>1514614</td>\n",
       "      <td>156908</td>\n",
       "      <td>5855</td>\n",
       "      <td>35313</td>\n",
       "      <td>https://i.ytimg.com/vi/3C66w5Z0ixs/default.jpg</td>\n",
       "      <td>False</td>\n",
       "      <td>False</td>\n",
       "      <td>SUBSCRIBE to BRAWADIS ▶ http://bit.ly/Subscrib...</td>\n",
       "    </tr>\n",
       "    <tr>\n",
       "      <th>1</th>\n",
       "      <td>M9Pmf9AB4Mo</td>\n",
       "      <td>Apex Legends | Stories from the Outlands – “Th...</td>\n",
       "      <td>2020-08-11T17:00:10Z</td>\n",
       "      <td>UC0ZV6M2THA81QT9hrVWJG3A</td>\n",
       "      <td>Apex Legends</td>\n",
       "      <td>20</td>\n",
       "      <td>2020-08-12T00:00:00Z</td>\n",
       "      <td>Apex Legends|Apex Legends characters|new Apex ...</td>\n",
       "      <td>2381688</td>\n",
       "      <td>146739</td>\n",
       "      <td>2794</td>\n",
       "      <td>16549</td>\n",
       "      <td>https://i.ytimg.com/vi/M9Pmf9AB4Mo/default.jpg</td>\n",
       "      <td>False</td>\n",
       "      <td>False</td>\n",
       "      <td>While running her own modding shop, Ramya Pare...</td>\n",
       "    </tr>\n",
       "    <tr>\n",
       "      <th>2</th>\n",
       "      <td>J78aPJ3VyNs</td>\n",
       "      <td>I left youtube for a month and THIS is what ha...</td>\n",
       "      <td>2020-08-11T16:34:06Z</td>\n",
       "      <td>UCYzPXprvl5Y-Sf0g4vX-m6g</td>\n",
       "      <td>jacksepticeye</td>\n",
       "      <td>24</td>\n",
       "      <td>2020-08-12T00:00:00Z</td>\n",
       "      <td>jacksepticeye|funny|funny meme|memes|jacksepti...</td>\n",
       "      <td>2038853</td>\n",
       "      <td>353787</td>\n",
       "      <td>2628</td>\n",
       "      <td>40221</td>\n",
       "      <td>https://i.ytimg.com/vi/J78aPJ3VyNs/default.jpg</td>\n",
       "      <td>False</td>\n",
       "      <td>False</td>\n",
       "      <td>I left youtube for a month and this is what ha...</td>\n",
       "    </tr>\n",
       "    <tr>\n",
       "      <th>3</th>\n",
       "      <td>kXLn3HkpjaA</td>\n",
       "      <td>XXL 2020 Freshman Class Revealed - Official An...</td>\n",
       "      <td>2020-08-11T16:38:55Z</td>\n",
       "      <td>UCbg_UMjlHJg_19SZckaKajg</td>\n",
       "      <td>XXL</td>\n",
       "      <td>10</td>\n",
       "      <td>2020-08-12T00:00:00Z</td>\n",
       "      <td>xxl freshman|xxl freshmen|2020 xxl freshman|20...</td>\n",
       "      <td>496771</td>\n",
       "      <td>23251</td>\n",
       "      <td>1856</td>\n",
       "      <td>7647</td>\n",
       "      <td>https://i.ytimg.com/vi/kXLn3HkpjaA/default.jpg</td>\n",
       "      <td>False</td>\n",
       "      <td>False</td>\n",
       "      <td>Subscribe to XXL → http://bit.ly/subscribe-xxl...</td>\n",
       "    </tr>\n",
       "    <tr>\n",
       "      <th>4</th>\n",
       "      <td>VIUo6yapDbc</td>\n",
       "      <td>Ultimate DIY Home Movie Theater for The LaBran...</td>\n",
       "      <td>2020-08-11T15:10:05Z</td>\n",
       "      <td>UCDVPcEbVLQgLZX0Rt6jo34A</td>\n",
       "      <td>Mr. Kate</td>\n",
       "      <td>26</td>\n",
       "      <td>2020-08-12T00:00:00Z</td>\n",
       "      <td>The LaBrant Family|DIY|Interior Design|Makeove...</td>\n",
       "      <td>1123889</td>\n",
       "      <td>45802</td>\n",
       "      <td>964</td>\n",
       "      <td>2196</td>\n",
       "      <td>https://i.ytimg.com/vi/VIUo6yapDbc/default.jpg</td>\n",
       "      <td>False</td>\n",
       "      <td>False</td>\n",
       "      <td>Transforming The LaBrant Family's empty white ...</td>\n",
       "    </tr>\n",
       "  </tbody>\n",
       "</table>\n",
       "</div>"
      ],
      "text/plain": [
       "      video_id                                              title  \\\n",
       "0  3C66w5Z0ixs                 I ASKED HER TO BE MY GIRLFRIEND...   \n",
       "1  M9Pmf9AB4Mo  Apex Legends | Stories from the Outlands – “Th...   \n",
       "2  J78aPJ3VyNs  I left youtube for a month and THIS is what ha...   \n",
       "3  kXLn3HkpjaA  XXL 2020 Freshman Class Revealed - Official An...   \n",
       "4  VIUo6yapDbc  Ultimate DIY Home Movie Theater for The LaBran...   \n",
       "\n",
       "            publishedAt                 channelId   channelTitle  categoryId  \\\n",
       "0  2020-08-11T19:20:14Z  UCvtRTOMP2TqYqu51xNrqAzg       Brawadis          22   \n",
       "1  2020-08-11T17:00:10Z  UC0ZV6M2THA81QT9hrVWJG3A   Apex Legends          20   \n",
       "2  2020-08-11T16:34:06Z  UCYzPXprvl5Y-Sf0g4vX-m6g  jacksepticeye          24   \n",
       "3  2020-08-11T16:38:55Z  UCbg_UMjlHJg_19SZckaKajg            XXL          10   \n",
       "4  2020-08-11T15:10:05Z  UCDVPcEbVLQgLZX0Rt6jo34A       Mr. Kate          26   \n",
       "\n",
       "          trending_date                                               tags  \\\n",
       "0  2020-08-12T00:00:00Z  brawadis|prank|basketball|skits|ghost|funny vi...   \n",
       "1  2020-08-12T00:00:00Z  Apex Legends|Apex Legends characters|new Apex ...   \n",
       "2  2020-08-12T00:00:00Z  jacksepticeye|funny|funny meme|memes|jacksepti...   \n",
       "3  2020-08-12T00:00:00Z  xxl freshman|xxl freshmen|2020 xxl freshman|20...   \n",
       "4  2020-08-12T00:00:00Z  The LaBrant Family|DIY|Interior Design|Makeove...   \n",
       "\n",
       "   view_count   likes  dislikes  comment_count  \\\n",
       "0     1514614  156908      5855          35313   \n",
       "1     2381688  146739      2794          16549   \n",
       "2     2038853  353787      2628          40221   \n",
       "3      496771   23251      1856           7647   \n",
       "4     1123889   45802       964           2196   \n",
       "\n",
       "                                   thumbnail_link  comments_disabled  \\\n",
       "0  https://i.ytimg.com/vi/3C66w5Z0ixs/default.jpg              False   \n",
       "1  https://i.ytimg.com/vi/M9Pmf9AB4Mo/default.jpg              False   \n",
       "2  https://i.ytimg.com/vi/J78aPJ3VyNs/default.jpg              False   \n",
       "3  https://i.ytimg.com/vi/kXLn3HkpjaA/default.jpg              False   \n",
       "4  https://i.ytimg.com/vi/VIUo6yapDbc/default.jpg              False   \n",
       "\n",
       "   ratings_disabled                                        description  \n",
       "0             False  SUBSCRIBE to BRAWADIS ▶ http://bit.ly/Subscrib...  \n",
       "1             False  While running her own modding shop, Ramya Pare...  \n",
       "2             False  I left youtube for a month and this is what ha...  \n",
       "3             False  Subscribe to XXL → http://bit.ly/subscribe-xxl...  \n",
       "4             False  Transforming The LaBrant Family's empty white ...  "
      ]
     },
     "execution_count": 56,
     "metadata": {},
     "output_type": "execute_result"
    }
   ],
>>>>>>> 155963aa01cb9c3f459f00c77f346f169606d1c1
=======
   "execution_count": null,
   "metadata": {},
   "outputs": [],
>>>>>>> 10441f79247acd685638787c7e29b2740ca23b7a
   "source": [
    "trending_df.head()"
   ]
  },
  {
   "cell_type": "code",
<<<<<<< HEAD
<<<<<<< HEAD
   "execution_count": null,
   "metadata": {},
   "outputs": [],
=======
   "execution_count": 57,
   "metadata": {},
   "outputs": [
    {
     "data": {
      "text/html": [
       "<div>\n",
       "<style scoped>\n",
       "    .dataframe tbody tr th:only-of-type {\n",
       "        vertical-align: middle;\n",
       "    }\n",
       "\n",
       "    .dataframe tbody tr th {\n",
       "        vertical-align: top;\n",
       "    }\n",
       "\n",
       "    .dataframe thead th {\n",
       "        text-align: right;\n",
       "    }\n",
       "</style>\n",
       "<table border=\"1\" class=\"dataframe\">\n",
       "  <thead>\n",
       "    <tr style=\"text-align: right;\">\n",
       "      <th></th>\n",
       "      <th>categoryId</th>\n",
       "      <th>view_count</th>\n",
       "      <th>likes</th>\n",
       "      <th>dislikes</th>\n",
       "      <th>comment_count</th>\n",
       "    </tr>\n",
       "  </thead>\n",
       "  <tbody>\n",
       "    <tr>\n",
       "      <th>count</th>\n",
       "      <td>177390.000000</td>\n",
       "      <td>1.773900e+05</td>\n",
       "      <td>1.773900e+05</td>\n",
       "      <td>177390.000000</td>\n",
       "      <td>1.773900e+05</td>\n",
       "    </tr>\n",
       "    <tr>\n",
       "      <th>mean</th>\n",
       "      <td>18.840267</td>\n",
       "      <td>2.531660e+06</td>\n",
       "      <td>1.328712e+05</td>\n",
       "      <td>1718.693528</td>\n",
       "      <td>1.115995e+04</td>\n",
       "    </tr>\n",
       "    <tr>\n",
       "      <th>std</th>\n",
       "      <td>6.751101</td>\n",
       "      <td>7.038882e+06</td>\n",
       "      <td>4.096811e+05</td>\n",
       "      <td>9854.973492</td>\n",
       "      <td>8.487794e+04</td>\n",
       "    </tr>\n",
       "    <tr>\n",
       "      <th>min</th>\n",
       "      <td>1.000000</td>\n",
       "      <td>0.000000e+00</td>\n",
       "      <td>0.000000e+00</td>\n",
       "      <td>0.000000</td>\n",
       "      <td>0.000000e+00</td>\n",
       "    </tr>\n",
       "    <tr>\n",
       "      <th>25%</th>\n",
       "      <td>17.000000</td>\n",
       "      <td>4.850082e+05</td>\n",
       "      <td>1.920925e+04</td>\n",
       "      <td>0.000000</td>\n",
       "      <td>1.359000e+03</td>\n",
       "    </tr>\n",
       "    <tr>\n",
       "      <th>50%</th>\n",
       "      <td>20.000000</td>\n",
       "      <td>9.883235e+05</td>\n",
       "      <td>4.441650e+04</td>\n",
       "      <td>186.000000</td>\n",
       "      <td>3.034000e+03</td>\n",
       "    </tr>\n",
       "    <tr>\n",
       "      <th>75%</th>\n",
       "      <td>24.000000</td>\n",
       "      <td>2.225834e+06</td>\n",
       "      <td>1.111325e+05</td>\n",
       "      <td>1009.000000</td>\n",
       "      <td>7.214000e+03</td>\n",
       "    </tr>\n",
       "    <tr>\n",
       "      <th>max</th>\n",
       "      <td>29.000000</td>\n",
       "      <td>2.777917e+08</td>\n",
       "      <td>1.602153e+07</td>\n",
       "      <td>879354.000000</td>\n",
       "      <td>6.738537e+06</td>\n",
       "    </tr>\n",
       "  </tbody>\n",
       "</table>\n",
       "</div>"
      ],
      "text/plain": [
       "          categoryId    view_count         likes       dislikes  comment_count\n",
       "count  177390.000000  1.773900e+05  1.773900e+05  177390.000000   1.773900e+05\n",
       "mean       18.840267  2.531660e+06  1.328712e+05    1718.693528   1.115995e+04\n",
       "std         6.751101  7.038882e+06  4.096811e+05    9854.973492   8.487794e+04\n",
       "min         1.000000  0.000000e+00  0.000000e+00       0.000000   0.000000e+00\n",
       "25%        17.000000  4.850082e+05  1.920925e+04       0.000000   1.359000e+03\n",
       "50%        20.000000  9.883235e+05  4.441650e+04     186.000000   3.034000e+03\n",
       "75%        24.000000  2.225834e+06  1.111325e+05    1009.000000   7.214000e+03\n",
       "max        29.000000  2.777917e+08  1.602153e+07  879354.000000   6.738537e+06"
      ]
     },
     "execution_count": 57,
     "metadata": {},
     "output_type": "execute_result"
    }
   ],
>>>>>>> 155963aa01cb9c3f459f00c77f346f169606d1c1
=======
   "execution_count": null,
   "metadata": {},
   "outputs": [],
>>>>>>> 10441f79247acd685638787c7e29b2740ca23b7a
   "source": [
    "trending_df.describe()"
   ]
  },
  {
   "cell_type": "code",
<<<<<<< HEAD
<<<<<<< HEAD
   "execution_count": null,
=======
   "execution_count": 58,
>>>>>>> 155963aa01cb9c3f459f00c77f346f169606d1c1
=======
   "execution_count": null,
>>>>>>> 10441f79247acd685638787c7e29b2740ca23b7a
   "metadata": {},
   "outputs": [],
   "source": [
    "trending_df.info()"
   ]
  },
  {
   "cell_type": "code",
<<<<<<< HEAD
<<<<<<< HEAD
   "execution_count": null,
   "metadata": {},
   "outputs": [],
=======
   "execution_count": 59,
   "metadata": {},
   "outputs": [
    {
     "data": {
      "text/html": [
       "<div>\n",
       "<style scoped>\n",
       "    .dataframe tbody tr th:only-of-type {\n",
       "        vertical-align: middle;\n",
       "    }\n",
       "\n",
       "    .dataframe tbody tr th {\n",
       "        vertical-align: top;\n",
       "    }\n",
       "\n",
       "    .dataframe thead th {\n",
       "        text-align: right;\n",
       "    }\n",
       "</style>\n",
       "<table border=\"1\" class=\"dataframe\">\n",
       "  <thead>\n",
       "    <tr style=\"text-align: right;\">\n",
       "      <th></th>\n",
       "      <th>kind</th>\n",
       "      <th>etag</th>\n",
       "      <th>id</th>\n",
       "      <th>snippet.title</th>\n",
       "      <th>snippet.assignable</th>\n",
       "      <th>snippet.channelId</th>\n",
       "    </tr>\n",
       "  </thead>\n",
       "  <tbody>\n",
       "    <tr>\n",
       "      <th>0</th>\n",
       "      <td>youtube#videoCategory</td>\n",
       "      <td>IfWa37JGcqZs-jZeAyFGkbeh6bc</td>\n",
       "      <td>1</td>\n",
       "      <td>Film &amp; Animation</td>\n",
       "      <td>True</td>\n",
       "      <td>UCBR8-60-B28hp2BmDPdntcQ</td>\n",
       "    </tr>\n",
       "    <tr>\n",
       "      <th>1</th>\n",
       "      <td>youtube#videoCategory</td>\n",
       "      <td>5XGylIs7zkjHh5940dsT5862m1Y</td>\n",
       "      <td>2</td>\n",
       "      <td>Autos &amp; Vehicles</td>\n",
       "      <td>True</td>\n",
       "      <td>UCBR8-60-B28hp2BmDPdntcQ</td>\n",
       "    </tr>\n",
       "    <tr>\n",
       "      <th>2</th>\n",
       "      <td>youtube#videoCategory</td>\n",
       "      <td>HCjFMARbBeWjpm6PDfReCOMOZGA</td>\n",
       "      <td>10</td>\n",
       "      <td>Music</td>\n",
       "      <td>True</td>\n",
       "      <td>UCBR8-60-B28hp2BmDPdntcQ</td>\n",
       "    </tr>\n",
       "    <tr>\n",
       "      <th>3</th>\n",
       "      <td>youtube#videoCategory</td>\n",
       "      <td>ra8H7xyAfmE2FewsDabE3TUSq10</td>\n",
       "      <td>15</td>\n",
       "      <td>Pets &amp; Animals</td>\n",
       "      <td>True</td>\n",
       "      <td>UCBR8-60-B28hp2BmDPdntcQ</td>\n",
       "    </tr>\n",
       "    <tr>\n",
       "      <th>4</th>\n",
       "      <td>youtube#videoCategory</td>\n",
       "      <td>7mqChSJogdF3hSIL-88BfDE-W8M</td>\n",
       "      <td>17</td>\n",
       "      <td>Sports</td>\n",
       "      <td>True</td>\n",
       "      <td>UCBR8-60-B28hp2BmDPdntcQ</td>\n",
       "    </tr>\n",
       "  </tbody>\n",
       "</table>\n",
       "</div>"
      ],
      "text/plain": [
       "                    kind                         etag  id     snippet.title  \\\n",
       "0  youtube#videoCategory  IfWa37JGcqZs-jZeAyFGkbeh6bc   1  Film & Animation   \n",
       "1  youtube#videoCategory  5XGylIs7zkjHh5940dsT5862m1Y   2  Autos & Vehicles   \n",
       "2  youtube#videoCategory  HCjFMARbBeWjpm6PDfReCOMOZGA  10             Music   \n",
       "3  youtube#videoCategory  ra8H7xyAfmE2FewsDabE3TUSq10  15    Pets & Animals   \n",
       "4  youtube#videoCategory  7mqChSJogdF3hSIL-88BfDE-W8M  17            Sports   \n",
       "\n",
       "   snippet.assignable         snippet.channelId  \n",
       "0                True  UCBR8-60-B28hp2BmDPdntcQ  \n",
       "1                True  UCBR8-60-B28hp2BmDPdntcQ  \n",
       "2                True  UCBR8-60-B28hp2BmDPdntcQ  \n",
       "3                True  UCBR8-60-B28hp2BmDPdntcQ  \n",
       "4                True  UCBR8-60-B28hp2BmDPdntcQ  "
      ]
     },
     "execution_count": 59,
     "metadata": {},
     "output_type": "execute_result"
    }
   ],
>>>>>>> 155963aa01cb9c3f459f00c77f346f169606d1c1
=======
   "execution_count": null,
   "metadata": {},
   "outputs": [],
>>>>>>> 10441f79247acd685638787c7e29b2740ca23b7a
   "source": [
    "category_df.head()"
   ]
  },
  {
   "cell_type": "code",
<<<<<<< HEAD
<<<<<<< HEAD
   "execution_count": null,
   "metadata": {},
   "outputs": [],
=======
   "execution_count": 60,
   "metadata": {},
   "outputs": [
    {
     "data": {
      "text/html": [
       "<div>\n",
       "<style scoped>\n",
       "    .dataframe tbody tr th:only-of-type {\n",
       "        vertical-align: middle;\n",
       "    }\n",
       "\n",
       "    .dataframe tbody tr th {\n",
       "        vertical-align: top;\n",
       "    }\n",
       "\n",
       "    .dataframe thead th {\n",
       "        text-align: right;\n",
       "    }\n",
       "</style>\n",
       "<table border=\"1\" class=\"dataframe\">\n",
       "  <thead>\n",
       "    <tr style=\"text-align: right;\">\n",
       "      <th></th>\n",
       "      <th>kind</th>\n",
       "      <th>etag</th>\n",
       "      <th>id</th>\n",
       "      <th>snippet.title</th>\n",
       "      <th>snippet.assignable</th>\n",
       "      <th>snippet.channelId</th>\n",
       "    </tr>\n",
       "  </thead>\n",
       "  <tbody>\n",
       "    <tr>\n",
       "      <th>count</th>\n",
       "      <td>32</td>\n",
       "      <td>32</td>\n",
       "      <td>32</td>\n",
       "      <td>32</td>\n",
       "      <td>32</td>\n",
       "      <td>32</td>\n",
       "    </tr>\n",
       "    <tr>\n",
       "      <th>unique</th>\n",
       "      <td>1</td>\n",
       "      <td>32</td>\n",
       "      <td>32</td>\n",
       "      <td>31</td>\n",
       "      <td>2</td>\n",
       "      <td>1</td>\n",
       "    </tr>\n",
       "    <tr>\n",
       "      <th>top</th>\n",
       "      <td>youtube#videoCategory</td>\n",
       "      <td>IfWa37JGcqZs-jZeAyFGkbeh6bc</td>\n",
       "      <td>1</td>\n",
       "      <td>Comedy</td>\n",
       "      <td>False</td>\n",
       "      <td>UCBR8-60-B28hp2BmDPdntcQ</td>\n",
       "    </tr>\n",
       "    <tr>\n",
       "      <th>freq</th>\n",
       "      <td>32</td>\n",
       "      <td>1</td>\n",
       "      <td>1</td>\n",
       "      <td>2</td>\n",
       "      <td>17</td>\n",
       "      <td>32</td>\n",
       "    </tr>\n",
       "  </tbody>\n",
       "</table>\n",
       "</div>"
      ],
      "text/plain": [
       "                         kind                         etag  id snippet.title  \\\n",
       "count                      32                           32  32            32   \n",
       "unique                      1                           32  32            31   \n",
       "top     youtube#videoCategory  IfWa37JGcqZs-jZeAyFGkbeh6bc   1        Comedy   \n",
       "freq                       32                            1   1             2   \n",
       "\n",
       "       snippet.assignable         snippet.channelId  \n",
       "count                  32                        32  \n",
       "unique                  2                         1  \n",
       "top                 False  UCBR8-60-B28hp2BmDPdntcQ  \n",
       "freq                   17                        32  "
      ]
     },
     "execution_count": 60,
     "metadata": {},
     "output_type": "execute_result"
    }
   ],
>>>>>>> 155963aa01cb9c3f459f00c77f346f169606d1c1
=======
   "execution_count": null,
   "metadata": {},
   "outputs": [],
>>>>>>> 10441f79247acd685638787c7e29b2740ca23b7a
   "source": [
    "category_df.describe()"
   ]
  },
  {
   "cell_type": "code",
<<<<<<< HEAD
<<<<<<< HEAD
   "execution_count": null,
=======
   "execution_count": 61,
>>>>>>> 155963aa01cb9c3f459f00c77f346f169606d1c1
=======
   "execution_count": null,
>>>>>>> 10441f79247acd685638787c7e29b2740ca23b7a
   "metadata": {},
   "outputs": [],
   "source": [
    "category_df.info()"
   ]
  },
  {
   "cell_type": "code",
<<<<<<< HEAD
<<<<<<< HEAD
   "execution_count": null,
=======
   "execution_count": 62,
>>>>>>> 155963aa01cb9c3f459f00c77f346f169606d1c1
=======
   "execution_count": null,
>>>>>>> 10441f79247acd685638787c7e29b2740ca23b7a
   "metadata": {},
   "outputs": [],
   "source": [
    "# convert type of column to make merge successful\n",
    "category_df['id'] = category_df['id'].astype('int64')"
   ]
  },
  {
   "cell_type": "code",
<<<<<<< HEAD
<<<<<<< HEAD
   "execution_count": null,
   "metadata": {},
   "outputs": [],
=======
   "execution_count": 63,
   "metadata": {},
   "outputs": [
    {
     "data": {
      "text/plain": [
       "UCDVYQ4Zhbm3S2dlz7P1GBDg    1180\n",
       "UCWJ2lWNubArHWmf3FIHbfcQ    1056\n",
       "UCpB959t8iPrxQWj7G6n0ctQ     595\n",
       "UCqZQlzSHbVJrwrn5XvzrzcA     520\n",
       "UCIPPMRA040LQr5QPyJEbmXA     512\n",
       "                            ... \n",
       "UCHmv6QMb4xerJ8Tt5UBHjaw       1\n",
       "UCfrSUhUYOUyZROqWZb-TphQ       1\n",
       "UCiio0ydw439X13KyZgMIcHw       1\n",
       "UCDi0kbBfktecByFXHMzFkww       1\n",
       "UCD6ERRdXrF2IZ0R888G8PQg       1\n",
       "Name: channelId, Length: 6838, dtype: int64"
      ]
     },
     "execution_count": 63,
     "metadata": {},
     "output_type": "execute_result"
    }
   ],
>>>>>>> 155963aa01cb9c3f459f00c77f346f169606d1c1
=======
   "execution_count": null,
   "metadata": {},
   "outputs": [],
>>>>>>> 10441f79247acd685638787c7e29b2740ca23b7a
   "source": [
    "trending_df['channelId'].value_counts()"
   ]
  },
  {
   "cell_type": "code",
<<<<<<< HEAD
<<<<<<< HEAD
   "execution_count": null,
   "metadata": {},
   "outputs": [],
=======
   "execution_count": 64,
   "metadata": {},
   "outputs": [
    {
     "data": {
      "text/plain": [
       "UCBR8-60-B28hp2BmDPdntcQ    32\n",
       "Name: snippet.channelId, dtype: int64"
      ]
     },
     "execution_count": 64,
     "metadata": {},
     "output_type": "execute_result"
    }
   ],
>>>>>>> 155963aa01cb9c3f459f00c77f346f169606d1c1
=======
   "execution_count": null,
   "metadata": {},
   "outputs": [],
>>>>>>> 10441f79247acd685638787c7e29b2740ca23b7a
   "source": [
    "category_df['snippet.channelId'].value_counts()"
   ]
  },
  {
   "attachments": {},
   "cell_type": "markdown",
   "metadata": {},
   "source": [
    "**Merge Datasets Into Single DataFrame**"
   ]
  },
  {
   "cell_type": "code",
<<<<<<< HEAD
<<<<<<< HEAD
   "execution_count": null,
=======
   "execution_count": 65,
>>>>>>> 155963aa01cb9c3f459f00c77f346f169606d1c1
=======
   "execution_count": null,
>>>>>>> 10441f79247acd685638787c7e29b2740ca23b7a
   "metadata": {},
   "outputs": [],
   "source": [
    "df = pd.merge(trending_df, category_df, left_on=['categoryId'], right_on=['id'], how='inner')"
   ]
  },
  {
   "cell_type": "code",
<<<<<<< HEAD
<<<<<<< HEAD
   "execution_count": null,
   "metadata": {},
   "outputs": [],
=======
   "execution_count": 66,
   "metadata": {},
   "outputs": [
    {
     "data": {
      "text/plain": [
       "(177390, 22)"
      ]
     },
     "execution_count": 66,
     "metadata": {},
     "output_type": "execute_result"
    }
   ],
>>>>>>> 155963aa01cb9c3f459f00c77f346f169606d1c1
=======
   "execution_count": null,
   "metadata": {},
   "outputs": [],
>>>>>>> 10441f79247acd685638787c7e29b2740ca23b7a
   "source": [
    "df.shape"
   ]
  },
  {
   "cell_type": "code",
<<<<<<< HEAD
<<<<<<< HEAD
   "execution_count": null,
   "metadata": {},
   "outputs": [],
=======
   "execution_count": 67,
   "metadata": {},
   "outputs": [
    {
     "data": {
      "text/html": [
       "<div>\n",
       "<style scoped>\n",
       "    .dataframe tbody tr th:only-of-type {\n",
       "        vertical-align: middle;\n",
       "    }\n",
       "\n",
       "    .dataframe tbody tr th {\n",
       "        vertical-align: top;\n",
       "    }\n",
       "\n",
       "    .dataframe thead th {\n",
       "        text-align: right;\n",
       "    }\n",
       "</style>\n",
       "<table border=\"1\" class=\"dataframe\">\n",
       "  <thead>\n",
       "    <tr style=\"text-align: right;\">\n",
       "      <th></th>\n",
       "      <th>video_id</th>\n",
       "      <th>title</th>\n",
       "      <th>publishedAt</th>\n",
       "      <th>channelId</th>\n",
       "      <th>channelTitle</th>\n",
       "      <th>categoryId</th>\n",
       "      <th>trending_date</th>\n",
       "      <th>tags</th>\n",
       "      <th>view_count</th>\n",
       "      <th>likes</th>\n",
       "      <th>...</th>\n",
       "      <th>thumbnail_link</th>\n",
       "      <th>comments_disabled</th>\n",
       "      <th>ratings_disabled</th>\n",
       "      <th>description</th>\n",
       "      <th>kind</th>\n",
       "      <th>etag</th>\n",
       "      <th>id</th>\n",
       "      <th>snippet.title</th>\n",
       "      <th>snippet.assignable</th>\n",
       "      <th>snippet.channelId</th>\n",
       "    </tr>\n",
       "  </thead>\n",
       "  <tbody>\n",
       "    <tr>\n",
       "      <th>0</th>\n",
       "      <td>3C66w5Z0ixs</td>\n",
       "      <td>I ASKED HER TO BE MY GIRLFRIEND...</td>\n",
       "      <td>2020-08-11T19:20:14Z</td>\n",
       "      <td>UCvtRTOMP2TqYqu51xNrqAzg</td>\n",
       "      <td>Brawadis</td>\n",
       "      <td>22</td>\n",
       "      <td>2020-08-12T00:00:00Z</td>\n",
       "      <td>brawadis|prank|basketball|skits|ghost|funny vi...</td>\n",
       "      <td>1514614</td>\n",
       "      <td>156908</td>\n",
       "      <td>...</td>\n",
       "      <td>https://i.ytimg.com/vi/3C66w5Z0ixs/default.jpg</td>\n",
       "      <td>False</td>\n",
       "      <td>False</td>\n",
       "      <td>SUBSCRIBE to BRAWADIS ▶ http://bit.ly/Subscrib...</td>\n",
       "      <td>youtube#videoCategory</td>\n",
       "      <td>QMEBz6mxVdklVaq8JwesPEw_4nI</td>\n",
       "      <td>22</td>\n",
       "      <td>People &amp; Blogs</td>\n",
       "      <td>True</td>\n",
       "      <td>UCBR8-60-B28hp2BmDPdntcQ</td>\n",
       "    </tr>\n",
       "    <tr>\n",
       "      <th>1</th>\n",
       "      <td>49Z6Mv4_WCA</td>\n",
       "      <td>i don't know what im doing anymore</td>\n",
       "      <td>2020-08-11T20:24:34Z</td>\n",
       "      <td>UCtinbF-Q-fVthA0qrFQTgXQ</td>\n",
       "      <td>CaseyNeistat</td>\n",
       "      <td>22</td>\n",
       "      <td>2020-08-12T00:00:00Z</td>\n",
       "      <td>[None]</td>\n",
       "      <td>940036</td>\n",
       "      <td>87111</td>\n",
       "      <td>...</td>\n",
       "      <td>https://i.ytimg.com/vi/49Z6Mv4_WCA/default.jpg</td>\n",
       "      <td>False</td>\n",
       "      <td>False</td>\n",
       "      <td>ssend love to my sponsor; for a super Limited ...</td>\n",
       "      <td>youtube#videoCategory</td>\n",
       "      <td>QMEBz6mxVdklVaq8JwesPEw_4nI</td>\n",
       "      <td>22</td>\n",
       "      <td>People &amp; Blogs</td>\n",
       "      <td>True</td>\n",
       "      <td>UCBR8-60-B28hp2BmDPdntcQ</td>\n",
       "    </tr>\n",
       "    <tr>\n",
       "      <th>2</th>\n",
       "      <td>nt3VVyv5pxQ</td>\n",
       "      <td>Try Not To Laugh Challenge #51</td>\n",
       "      <td>2020-08-11T17:00:31Z</td>\n",
       "      <td>UCYJPby9DRCteedh5tfxVbrw</td>\n",
       "      <td>Smosh Pit</td>\n",
       "      <td>22</td>\n",
       "      <td>2020-08-12T00:00:00Z</td>\n",
       "      <td>smosh|smosh pit|smosh games|funny|comedy</td>\n",
       "      <td>591837</td>\n",
       "      <td>44168</td>\n",
       "      <td>...</td>\n",
       "      <td>https://i.ytimg.com/vi/nt3VVyv5pxQ/default.jpg</td>\n",
       "      <td>False</td>\n",
       "      <td>False</td>\n",
       "      <td>You know what time it is— time to try not to l...</td>\n",
       "      <td>youtube#videoCategory</td>\n",
       "      <td>QMEBz6mxVdklVaq8JwesPEw_4nI</td>\n",
       "      <td>22</td>\n",
       "      <td>People &amp; Blogs</td>\n",
       "      <td>True</td>\n",
       "      <td>UCBR8-60-B28hp2BmDPdntcQ</td>\n",
       "    </tr>\n",
       "    <tr>\n",
       "      <th>3</th>\n",
       "      <td>BNeDH6UTmXw</td>\n",
       "      <td>Ten Minutes with Tyler Cameron | Q&amp;A</td>\n",
       "      <td>2020-08-11T22:00:05Z</td>\n",
       "      <td>UCMw7m-ScQ6jV1FQzQnn1y8Q</td>\n",
       "      <td>Tyler Cameron</td>\n",
       "      <td>22</td>\n",
       "      <td>2020-08-12T00:00:00Z</td>\n",
       "      <td>the bachelor|the bachelorette|Tyler c|Tyler Ca...</td>\n",
       "      <td>105955</td>\n",
       "      <td>4511</td>\n",
       "      <td>...</td>\n",
       "      <td>https://i.ytimg.com/vi/BNeDH6UTmXw/default.jpg</td>\n",
       "      <td>False</td>\n",
       "      <td>False</td>\n",
       "      <td>Come hang out me with me for 10 minutes where ...</td>\n",
       "      <td>youtube#videoCategory</td>\n",
       "      <td>QMEBz6mxVdklVaq8JwesPEw_4nI</td>\n",
       "      <td>22</td>\n",
       "      <td>People &amp; Blogs</td>\n",
       "      <td>True</td>\n",
       "      <td>UCBR8-60-B28hp2BmDPdntcQ</td>\n",
       "    </tr>\n",
       "    <tr>\n",
       "      <th>4</th>\n",
       "      <td>gPdUslndvVI</td>\n",
       "      <td>Our Farm Got Destroyed.</td>\n",
       "      <td>2020-08-11T23:00:06Z</td>\n",
       "      <td>UCuxlXCfVyV-i5YLL30jkomw</td>\n",
       "      <td>Cole The Cornstar</td>\n",
       "      <td>22</td>\n",
       "      <td>2020-08-12T00:00:00Z</td>\n",
       "      <td>farming|family farm|agriculture|agriculture jo...</td>\n",
       "      <td>277338</td>\n",
       "      <td>37533</td>\n",
       "      <td>...</td>\n",
       "      <td>https://i.ytimg.com/vi/gPdUslndvVI/default.jpg</td>\n",
       "      <td>False</td>\n",
       "      <td>False</td>\n",
       "      <td>Wind storm, rain, and lots of destruction; wel...</td>\n",
       "      <td>youtube#videoCategory</td>\n",
       "      <td>QMEBz6mxVdklVaq8JwesPEw_4nI</td>\n",
       "      <td>22</td>\n",
       "      <td>People &amp; Blogs</td>\n",
       "      <td>True</td>\n",
       "      <td>UCBR8-60-B28hp2BmDPdntcQ</td>\n",
       "    </tr>\n",
       "  </tbody>\n",
       "</table>\n",
       "<p>5 rows × 22 columns</p>\n",
       "</div>"
      ],
      "text/plain": [
       "      video_id                                 title           publishedAt  \\\n",
       "0  3C66w5Z0ixs    I ASKED HER TO BE MY GIRLFRIEND...  2020-08-11T19:20:14Z   \n",
       "1  49Z6Mv4_WCA    i don't know what im doing anymore  2020-08-11T20:24:34Z   \n",
       "2  nt3VVyv5pxQ        Try Not To Laugh Challenge #51  2020-08-11T17:00:31Z   \n",
       "3  BNeDH6UTmXw  Ten Minutes with Tyler Cameron | Q&A  2020-08-11T22:00:05Z   \n",
       "4  gPdUslndvVI               Our Farm Got Destroyed.  2020-08-11T23:00:06Z   \n",
       "\n",
       "                  channelId       channelTitle  categoryId  \\\n",
       "0  UCvtRTOMP2TqYqu51xNrqAzg           Brawadis          22   \n",
       "1  UCtinbF-Q-fVthA0qrFQTgXQ       CaseyNeistat          22   \n",
       "2  UCYJPby9DRCteedh5tfxVbrw          Smosh Pit          22   \n",
       "3  UCMw7m-ScQ6jV1FQzQnn1y8Q      Tyler Cameron          22   \n",
       "4  UCuxlXCfVyV-i5YLL30jkomw  Cole The Cornstar          22   \n",
       "\n",
       "          trending_date                                               tags  \\\n",
       "0  2020-08-12T00:00:00Z  brawadis|prank|basketball|skits|ghost|funny vi...   \n",
       "1  2020-08-12T00:00:00Z                                             [None]   \n",
       "2  2020-08-12T00:00:00Z           smosh|smosh pit|smosh games|funny|comedy   \n",
       "3  2020-08-12T00:00:00Z  the bachelor|the bachelorette|Tyler c|Tyler Ca...   \n",
       "4  2020-08-12T00:00:00Z  farming|family farm|agriculture|agriculture jo...   \n",
       "\n",
       "   view_count   likes  ...                                  thumbnail_link  \\\n",
       "0     1514614  156908  ...  https://i.ytimg.com/vi/3C66w5Z0ixs/default.jpg   \n",
       "1      940036   87111  ...  https://i.ytimg.com/vi/49Z6Mv4_WCA/default.jpg   \n",
       "2      591837   44168  ...  https://i.ytimg.com/vi/nt3VVyv5pxQ/default.jpg   \n",
       "3      105955    4511  ...  https://i.ytimg.com/vi/BNeDH6UTmXw/default.jpg   \n",
       "4      277338   37533  ...  https://i.ytimg.com/vi/gPdUslndvVI/default.jpg   \n",
       "\n",
       "   comments_disabled ratings_disabled  \\\n",
       "0              False            False   \n",
       "1              False            False   \n",
       "2              False            False   \n",
       "3              False            False   \n",
       "4              False            False   \n",
       "\n",
       "                                         description                   kind  \\\n",
       "0  SUBSCRIBE to BRAWADIS ▶ http://bit.ly/Subscrib...  youtube#videoCategory   \n",
       "1  ssend love to my sponsor; for a super Limited ...  youtube#videoCategory   \n",
       "2  You know what time it is— time to try not to l...  youtube#videoCategory   \n",
       "3  Come hang out me with me for 10 minutes where ...  youtube#videoCategory   \n",
       "4  Wind storm, rain, and lots of destruction; wel...  youtube#videoCategory   \n",
       "\n",
       "                          etag  id   snippet.title  snippet.assignable  \\\n",
       "0  QMEBz6mxVdklVaq8JwesPEw_4nI  22  People & Blogs                True   \n",
       "1  QMEBz6mxVdklVaq8JwesPEw_4nI  22  People & Blogs                True   \n",
       "2  QMEBz6mxVdklVaq8JwesPEw_4nI  22  People & Blogs                True   \n",
       "3  QMEBz6mxVdklVaq8JwesPEw_4nI  22  People & Blogs                True   \n",
       "4  QMEBz6mxVdklVaq8JwesPEw_4nI  22  People & Blogs                True   \n",
       "\n",
       "          snippet.channelId  \n",
       "0  UCBR8-60-B28hp2BmDPdntcQ  \n",
       "1  UCBR8-60-B28hp2BmDPdntcQ  \n",
       "2  UCBR8-60-B28hp2BmDPdntcQ  \n",
       "3  UCBR8-60-B28hp2BmDPdntcQ  \n",
       "4  UCBR8-60-B28hp2BmDPdntcQ  \n",
       "\n",
       "[5 rows x 22 columns]"
      ]
     },
     "execution_count": 67,
     "metadata": {},
     "output_type": "execute_result"
    }
   ],
>>>>>>> 155963aa01cb9c3f459f00c77f346f169606d1c1
=======
   "execution_count": null,
   "metadata": {},
   "outputs": [],
>>>>>>> 10441f79247acd685638787c7e29b2740ca23b7a
   "source": [
    "df.head()"
   ]
  },
  {
   "attachments": {},
   "cell_type": "markdown",
   "metadata": {},
   "source": [
    "##### **Clean Merged Dataset**"
   ]
  },
  {
   "cell_type": "code",
<<<<<<< HEAD
<<<<<<< HEAD
   "execution_count": null,
=======
   "execution_count": 68,
>>>>>>> 155963aa01cb9c3f459f00c77f346f169606d1c1
=======
   "execution_count": null,
>>>>>>> 10441f79247acd685638787c7e29b2740ca23b7a
   "metadata": {},
   "outputs": [],
   "source": [
    "category_col = df['snippet.title']\n",
    "df = df.drop(labels=['snippet.channelId', 'id', 'snippet.assignable', 'etag', 'kind', 'categoryId', 'snippet.title', 'thumbnail_link'], axis=1)\n",
    "df['category'] = category_col"
   ]
  },
  {
   "attachments": {},
   "cell_type": "markdown",
   "metadata": {},
   "source": [
    "**Convert Merged Dataframe Columns to Correct Type**"
   ]
  },
  {
   "cell_type": "code",
<<<<<<< HEAD
<<<<<<< HEAD
   "execution_count": null,
=======
   "execution_count": 69,
>>>>>>> 155963aa01cb9c3f459f00c77f346f169606d1c1
=======
   "execution_count": null,
>>>>>>> 10441f79247acd685638787c7e29b2740ca23b7a
   "metadata": {},
   "outputs": [],
   "source": [
    "df['video_id'] = df['video_id'].astype('category')\n",
    "df['title'] = df['title'].astype('category')\n",
    "df['channelId'] = df['channelId'].astype('category')\n",
    "df['channelTitle'] = df['channelTitle'].astype('category')\n",
    "df['tags'] = df['tags'].astype('category')\n",
    "df['description'] = df['description'].astype('category')\n",
    "df['category'] = df['category'].astype('category')\n",
    "df['publishedAt'] = pd.to_datetime(df['publishedAt'])\n",
    "df['trending_date'] = pd.to_datetime(df['trending_date'])"
   ]
  },
  {
   "cell_type": "code",
<<<<<<< HEAD
<<<<<<< HEAD
   "execution_count": null,
   "metadata": {},
   "outputs": [],
=======
   "execution_count": 70,
   "metadata": {},
   "outputs": [
    {
     "data": {
      "text/html": [
       "<div>\n",
       "<style scoped>\n",
       "    .dataframe tbody tr th:only-of-type {\n",
       "        vertical-align: middle;\n",
       "    }\n",
       "\n",
       "    .dataframe tbody tr th {\n",
       "        vertical-align: top;\n",
       "    }\n",
       "\n",
       "    .dataframe thead th {\n",
       "        text-align: right;\n",
       "    }\n",
       "</style>\n",
       "<table border=\"1\" class=\"dataframe\">\n",
       "  <thead>\n",
       "    <tr style=\"text-align: right;\">\n",
       "      <th></th>\n",
       "      <th>video_id</th>\n",
       "      <th>title</th>\n",
       "      <th>publishedAt</th>\n",
       "      <th>channelId</th>\n",
       "      <th>channelTitle</th>\n",
       "      <th>trending_date</th>\n",
       "      <th>tags</th>\n",
       "      <th>view_count</th>\n",
       "      <th>likes</th>\n",
       "      <th>dislikes</th>\n",
       "      <th>comment_count</th>\n",
       "      <th>comments_disabled</th>\n",
       "      <th>ratings_disabled</th>\n",
       "      <th>description</th>\n",
       "      <th>category</th>\n",
       "    </tr>\n",
       "  </thead>\n",
       "  <tbody>\n",
       "    <tr>\n",
       "      <th>0</th>\n",
       "      <td>3C66w5Z0ixs</td>\n",
       "      <td>I ASKED HER TO BE MY GIRLFRIEND...</td>\n",
       "      <td>2020-08-11 19:20:14+00:00</td>\n",
       "      <td>UCvtRTOMP2TqYqu51xNrqAzg</td>\n",
       "      <td>Brawadis</td>\n",
       "      <td>2020-08-12 00:00:00+00:00</td>\n",
       "      <td>brawadis|prank|basketball|skits|ghost|funny vi...</td>\n",
       "      <td>1514614</td>\n",
       "      <td>156908</td>\n",
       "      <td>5855</td>\n",
       "      <td>35313</td>\n",
       "      <td>False</td>\n",
       "      <td>False</td>\n",
       "      <td>SUBSCRIBE to BRAWADIS ▶ http://bit.ly/Subscrib...</td>\n",
       "      <td>People &amp; Blogs</td>\n",
       "    </tr>\n",
       "    <tr>\n",
       "      <th>1</th>\n",
       "      <td>49Z6Mv4_WCA</td>\n",
       "      <td>i don't know what im doing anymore</td>\n",
       "      <td>2020-08-11 20:24:34+00:00</td>\n",
       "      <td>UCtinbF-Q-fVthA0qrFQTgXQ</td>\n",
       "      <td>CaseyNeistat</td>\n",
       "      <td>2020-08-12 00:00:00+00:00</td>\n",
       "      <td>[None]</td>\n",
       "      <td>940036</td>\n",
       "      <td>87111</td>\n",
       "      <td>1860</td>\n",
       "      <td>7052</td>\n",
       "      <td>False</td>\n",
       "      <td>False</td>\n",
       "      <td>ssend love to my sponsor; for a super Limited ...</td>\n",
       "      <td>People &amp; Blogs</td>\n",
       "    </tr>\n",
       "    <tr>\n",
       "      <th>2</th>\n",
       "      <td>nt3VVyv5pxQ</td>\n",
       "      <td>Try Not To Laugh Challenge #51</td>\n",
       "      <td>2020-08-11 17:00:31+00:00</td>\n",
       "      <td>UCYJPby9DRCteedh5tfxVbrw</td>\n",
       "      <td>Smosh Pit</td>\n",
       "      <td>2020-08-12 00:00:00+00:00</td>\n",
       "      <td>smosh|smosh pit|smosh games|funny|comedy</td>\n",
       "      <td>591837</td>\n",
       "      <td>44168</td>\n",
       "      <td>409</td>\n",
       "      <td>2652</td>\n",
       "      <td>False</td>\n",
       "      <td>False</td>\n",
       "      <td>You know what time it is— time to try not to l...</td>\n",
       "      <td>People &amp; Blogs</td>\n",
       "    </tr>\n",
       "    <tr>\n",
       "      <th>3</th>\n",
       "      <td>BNeDH6UTmXw</td>\n",
       "      <td>Ten Minutes with Tyler Cameron | Q&amp;A</td>\n",
       "      <td>2020-08-11 22:00:05+00:00</td>\n",
       "      <td>UCMw7m-ScQ6jV1FQzQnn1y8Q</td>\n",
       "      <td>Tyler Cameron</td>\n",
       "      <td>2020-08-12 00:00:00+00:00</td>\n",
       "      <td>the bachelor|the bachelorette|Tyler c|Tyler Ca...</td>\n",
       "      <td>105955</td>\n",
       "      <td>4511</td>\n",
       "      <td>69</td>\n",
       "      <td>673</td>\n",
       "      <td>False</td>\n",
       "      <td>False</td>\n",
       "      <td>Come hang out me with me for 10 minutes where ...</td>\n",
       "      <td>People &amp; Blogs</td>\n",
       "    </tr>\n",
       "    <tr>\n",
       "      <th>4</th>\n",
       "      <td>gPdUslndvVI</td>\n",
       "      <td>Our Farm Got Destroyed.</td>\n",
       "      <td>2020-08-11 23:00:06+00:00</td>\n",
       "      <td>UCuxlXCfVyV-i5YLL30jkomw</td>\n",
       "      <td>Cole The Cornstar</td>\n",
       "      <td>2020-08-12 00:00:00+00:00</td>\n",
       "      <td>farming|family farm|agriculture|agriculture jo...</td>\n",
       "      <td>277338</td>\n",
       "      <td>37533</td>\n",
       "      <td>197</td>\n",
       "      <td>3666</td>\n",
       "      <td>False</td>\n",
       "      <td>False</td>\n",
       "      <td>Wind storm, rain, and lots of destruction; wel...</td>\n",
       "      <td>People &amp; Blogs</td>\n",
       "    </tr>\n",
       "  </tbody>\n",
       "</table>\n",
       "</div>"
      ],
      "text/plain": [
       "      video_id                                 title  \\\n",
       "0  3C66w5Z0ixs    I ASKED HER TO BE MY GIRLFRIEND...   \n",
       "1  49Z6Mv4_WCA    i don't know what im doing anymore   \n",
       "2  nt3VVyv5pxQ        Try Not To Laugh Challenge #51   \n",
       "3  BNeDH6UTmXw  Ten Minutes with Tyler Cameron | Q&A   \n",
       "4  gPdUslndvVI               Our Farm Got Destroyed.   \n",
       "\n",
       "                publishedAt                 channelId       channelTitle  \\\n",
       "0 2020-08-11 19:20:14+00:00  UCvtRTOMP2TqYqu51xNrqAzg           Brawadis   \n",
       "1 2020-08-11 20:24:34+00:00  UCtinbF-Q-fVthA0qrFQTgXQ       CaseyNeistat   \n",
       "2 2020-08-11 17:00:31+00:00  UCYJPby9DRCteedh5tfxVbrw          Smosh Pit   \n",
       "3 2020-08-11 22:00:05+00:00  UCMw7m-ScQ6jV1FQzQnn1y8Q      Tyler Cameron   \n",
       "4 2020-08-11 23:00:06+00:00  UCuxlXCfVyV-i5YLL30jkomw  Cole The Cornstar   \n",
       "\n",
       "              trending_date  \\\n",
       "0 2020-08-12 00:00:00+00:00   \n",
       "1 2020-08-12 00:00:00+00:00   \n",
       "2 2020-08-12 00:00:00+00:00   \n",
       "3 2020-08-12 00:00:00+00:00   \n",
       "4 2020-08-12 00:00:00+00:00   \n",
       "\n",
       "                                                tags  view_count   likes  \\\n",
       "0  brawadis|prank|basketball|skits|ghost|funny vi...     1514614  156908   \n",
       "1                                             [None]      940036   87111   \n",
       "2           smosh|smosh pit|smosh games|funny|comedy      591837   44168   \n",
       "3  the bachelor|the bachelorette|Tyler c|Tyler Ca...      105955    4511   \n",
       "4  farming|family farm|agriculture|agriculture jo...      277338   37533   \n",
       "\n",
       "   dislikes  comment_count  comments_disabled  ratings_disabled  \\\n",
       "0      5855          35313              False             False   \n",
       "1      1860           7052              False             False   \n",
       "2       409           2652              False             False   \n",
       "3        69            673              False             False   \n",
       "4       197           3666              False             False   \n",
       "\n",
       "                                         description        category  \n",
       "0  SUBSCRIBE to BRAWADIS ▶ http://bit.ly/Subscrib...  People & Blogs  \n",
       "1  ssend love to my sponsor; for a super Limited ...  People & Blogs  \n",
       "2  You know what time it is— time to try not to l...  People & Blogs  \n",
       "3  Come hang out me with me for 10 minutes where ...  People & Blogs  \n",
       "4  Wind storm, rain, and lots of destruction; wel...  People & Blogs  "
      ]
     },
     "execution_count": 70,
     "metadata": {},
     "output_type": "execute_result"
    }
   ],
>>>>>>> 155963aa01cb9c3f459f00c77f346f169606d1c1
=======
   "execution_count": null,
   "metadata": {},
   "outputs": [],
>>>>>>> 10441f79247acd685638787c7e29b2740ca23b7a
   "source": [
    "df.head()"
   ]
  },
  {
   "cell_type": "code",
<<<<<<< HEAD
<<<<<<< HEAD
   "execution_count": null,
=======
   "execution_count": 71,
>>>>>>> 155963aa01cb9c3f459f00c77f346f169606d1c1
   "metadata": {},
   "outputs": [],
   "source": [
    "df[df['video_id'] == '3C66w5Z0ixs']"
   ]
  },
  {
   "cell_type": "code",
   "execution_count": null,
   "metadata": {},
   "outputs": [],
=======
   "execution_count": null,
   "metadata": {},
   "outputs": [],
>>>>>>> 10441f79247acd685638787c7e29b2740ca23b7a
   "source": [
    "df.info()"
   ]
  },
  {
   "attachments": {},
   "cell_type": "markdown",
   "metadata": {},
   "source": [
    "<mark>ADD MORE COLUMNS? WHAT TO DO WITH TEXT COLUMNS -> slam it all in the df</mark>\n",
    "\n",
    "tfidvectorizer"
   ]
  },
  {
   "attachments": {},
   "cell_type": "markdown",
   "metadata": {},
   "source": [
    "- morning, afternoon, night ?\n",
    "- day of the week\n",
    "- month ?\n",
    "- days between trending videos\n",
    "- days between publish & trending date\n",
    "- number of days trending"
   ]
  },
  {
   "attachments": {},
   "cell_type": "markdown",
   "metadata": {},
   "source": [
    "**Upload & Trending Day of Week**\n",
    "\n",
    "- 0 : monday, 1 : tuesday, ..."
   ]
  },
  {
   "cell_type": "code",
<<<<<<< HEAD
<<<<<<< HEAD
   "execution_count": null,
=======
   "execution_count": 72,
>>>>>>> 155963aa01cb9c3f459f00c77f346f169606d1c1
=======
   "execution_count": null,
>>>>>>> 10441f79247acd685638787c7e29b2740ca23b7a
   "metadata": {},
   "outputs": [],
   "source": [
    "df['dayofweek_upload'] = df['publishedAt'].dt.dayofweek\n",
    "df['dayofweek_trending'] = df['trending_date'].dt.dayofweek"
   ]
  },
  {
   "attachments": {},
   "cell_type": "markdown",
   "metadata": {},
   "source": [
    "Get DFs of first video id occurrence and last video id occurrence "
   ]
  },
  {
   "cell_type": "code",
   "execution_count": null,
   "metadata": {},
   "outputs": [],
   "source": [
    "first_video_occ_df = df.drop_duplicates('video_id', keep='first').reset_index(drop=True)\n",
    "last_video_occ_df = df.drop_duplicates('video_id', keep='last').reset_index(drop=True)"
   ]
  },
  {
   "attachments": {},
   "cell_type": "markdown",
   "metadata": {},
   "source": [
    "Create new df of first video occurences and add columns from last occurence df "
   ]
  },
  {
   "cell_type": "code",
   "execution_count": null,
   "metadata": {},
   "outputs": [],
   "source": [
    "new_df = first_video_occ_df.rename(columns={'trending_date':'start_trend_date', \n",
    "                                            'view_count':'start_view_count', \n",
    "                                            'likes':'start_likes', \n",
    "                                            'dislikes':'start_dislikes', \n",
    "                                            'comment_count':'start_comment_count'})"
   ]
  },
  {
   "attachments": {},
   "cell_type": "markdown",
   "metadata": {},
   "source": [
    "Add last occurence columns to new DF for data that changes"
   ]
  },
  {
   "cell_type": "code",
   "execution_count": null,
   "metadata": {},
   "outputs": [],
   "source": [
    "new_df['end_trend_date'] = last_video_occ_df['trending_date']\n",
    "new_df['end_view_count'] = last_video_occ_df['view_count']\n",
    "new_df['end_likes'] = last_video_occ_df['likes']\n",
    "new_df['end_dislikes'] = last_video_occ_df['dislikes']\n",
    "new_df['end_comment_count'] = last_video_occ_df['comment_count']"
   ]
  },
  {
   "attachments": {},
   "cell_type": "markdown",
   "metadata": {},
   "source": [
    "Reset index of df and print head elements"
   ]
  },
  {
   "cell_type": "code",
   "execution_count": null,
   "metadata": {},
   "outputs": [],
   "source": [
    "new_df = new_df.sort_values('video_id').reset_index(drop=True)\n",
    "new_df.head()"
   ]
  },
  {
   "cell_type": "code",
   "execution_count": null,
   "metadata": {},
   "outputs": [],
   "source": [
    "new_df.info()"
   ]
  },
  {
   "attachments": {},
   "cell_type": "markdown",
   "metadata": {},
   "source": [
    "**Number of Days Trending**"
   ]
  },
  {
   "cell_type": "code",
   "execution_count": null,
   "metadata": {},
   "outputs": [],
   "source": [
    "new_df['number_days_trend'] = new_df['end_trend_date'] - new_df['start_trend_date']\n",
    "new_df['number_days_trend'] = new_df['number_days_trend'].dt.days\n",
    "new_df.head()"
   ]
  },
  {
   "cell_type": "code",
   "execution_count": null,
   "metadata": {},
   "outputs": [],
   "source": [
    "new_df.info()"
   ]
  },
  {
   "attachments": {},
   "cell_type": "markdown",
   "metadata": {},
   "source": [
    "**Clean Tags Column**"
   ]
  },
  {
   "cell_type": "code",
   "execution_count": 132,
   "metadata": {},
   "outputs": [
    {
     "data": {
      "text/plain": [
       "0         brawadis prank basketball skits ghost funny vi...\n",
       "1                                                    [None]\n",
       "2                  smosh smosh pit smosh games funny comedy\n",
       "3         the bachelor the bachelorette Tyler c Tyler Ca...\n",
       "4         farming family farm agriculture agriculture jo...\n",
       "                                ...                        \n",
       "177385    denzel washington interview discovering the de...\n",
       "177386    denzel washington interview discovering the de...\n",
       "177387    denzel washington interview discovering the de...\n",
       "177388    denzel washington interview discovering the de...\n",
       "177389    denzel washington interview discovering the de...\n",
       "Name: tags, Length: 177390, dtype: object"
      ]
     },
     "execution_count": 132,
     "metadata": {},
     "output_type": "execute_result"
    }
   ],
   "source": [
    "df['tags'] = df['tags'].apply(lambda tagstr : tagstr.replace('|', ' '))"
   ]
  },
  {
   "attachments": {},
   "cell_type": "markdown",
   "metadata": {},
   "source": [
    "##### **Extract Words from Text Columns**\n",
    "\n",
    "- columns: title, tags, description"
   ]
  },
  {
   "cell_type": "code",
<<<<<<< HEAD
<<<<<<< HEAD
   "execution_count": null,
=======
   "execution_count": 77,
>>>>>>> 155963aa01cb9c3f459f00c77f346f169606d1c1
=======
   "execution_count": null,
>>>>>>> 10441f79247acd685638787c7e29b2740ca23b7a
   "metadata": {},
   "outputs": [],
   "source": [
    "lang_model = spacy.load(\"en_core_web_sm\")\n",
    "vectorizer = TfidfVectorizer()"
   ]
  },
  {
   "cell_type": "code",
<<<<<<< HEAD
<<<<<<< HEAD
   "execution_count": 133,
   "metadata": {},
   "outputs": [
    {
     "ename": "KeyboardInterrupt",
     "evalue": "",
     "output_type": "error",
     "traceback": [
      "\u001b[1;31m---------------------------------------------------------------------------\u001b[0m",
      "\u001b[1;31mKeyboardInterrupt\u001b[0m                         Traceback (most recent call last)",
      "Cell \u001b[1;32mIn [133], line 4\u001b[0m\n\u001b[0;32m      2\u001b[0m \u001b[39m# title\u001b[39;00m\n\u001b[0;32m      3\u001b[0m \u001b[39mfor\u001b[39;00m title \u001b[39min\u001b[39;00m df[\u001b[39m'\u001b[39m\u001b[39mtitle\u001b[39m\u001b[39m'\u001b[39m]:\n\u001b[1;32m----> 4\u001b[0m     vocab_normalized\u001b[39m.\u001b[39madd(nlp_functions\u001b[39m.\u001b[39;49mnormalize_text(title, lang_model, lemmatizing\u001b[39m=\u001b[39;49m\u001b[39mTrue\u001b[39;49;00m, stop_words\u001b[39m=\u001b[39;49m\u001b[39mTrue\u001b[39;49;00m, numeric\u001b[39m=\u001b[39;49m\u001b[39mTrue\u001b[39;49;00m))\n\u001b[0;32m      6\u001b[0m \u001b[39m# tag\u001b[39;00m\n\u001b[0;32m      7\u001b[0m \u001b[39mfor\u001b[39;00m tag \u001b[39min\u001b[39;00m df[\u001b[39m'\u001b[39m\u001b[39mtags\u001b[39m\u001b[39m'\u001b[39m]:\n",
      "File \u001b[1;32mc:\\Users\\rosynekp\\OneDrive - Milwaukee School of Engineering\\Desktop\\cs 3300 011\\final project\\CS-3300-Final-Project\\code\\nlp_functions.py:287\u001b[0m, in \u001b[0;36mnormalize_text\u001b[1;34m(text, lang_model, special_characters, numeric, lemmatizing, stop_words)\u001b[0m\n\u001b[0;32m    284\u001b[0m text \u001b[39m=\u001b[39m expand_contractions(text)\n\u001b[0;32m    286\u001b[0m \u001b[39m# remove stop_words amd punctuations\u001b[39;00m\n\u001b[1;32m--> 287\u001b[0m filtered_text \u001b[39m=\u001b[39m  remove_stopwords_punctuation(text, lang_model, lemmatizing, stop_words)\n\u001b[0;32m    290\u001b[0m \u001b[39mreturn\u001b[39;00m filtered_text\n",
      "File \u001b[1;32mc:\\Users\\rosynekp\\OneDrive - Milwaukee School of Engineering\\Desktop\\cs 3300 011\\final project\\CS-3300-Final-Project\\code\\nlp_functions.py:228\u001b[0m, in \u001b[0;36mremove_stopwords_punctuation\u001b[1;34m(text, lang_model, lemmatizing, stop_words)\u001b[0m\n\u001b[0;32m    197\u001b[0m \u001b[39mdef\u001b[39;00m \u001b[39mremove_stopwords_punctuation\u001b[39m(text, lang_model, lemmatizing\u001b[39m=\u001b[39m\u001b[39mFalse\u001b[39;00m, stop_words\u001b[39m=\u001b[39m\u001b[39mFalse\u001b[39;00m):\n\u001b[0;32m    198\u001b[0m     \u001b[39m\"\"\"\u001b[39;00m\n\u001b[0;32m    199\u001b[0m \u001b[39m    This function uses spacy to remove stop_words and punctuation marks.\u001b[39;00m\n\u001b[0;32m    200\u001b[0m \u001b[39m    It can also replace words with their lemma.\u001b[39;00m\n\u001b[1;32m   (...)\u001b[0m\n\u001b[0;32m    225\u001b[0m \n\u001b[0;32m    226\u001b[0m \u001b[39m    \"\"\"\u001b[39;00m\n\u001b[1;32m--> 228\u001b[0m     doc_text \u001b[39m=\u001b[39m lang_model(text)\n\u001b[0;32m    230\u001b[0m     \u001b[39mif\u001b[39;00m lemmatizing \u001b[39mand\u001b[39;00m stop_words:\n\u001b[0;32m    231\u001b[0m         st\u001b[39m=\u001b[39m \u001b[39m\"\u001b[39m\u001b[39m \u001b[39m\u001b[39m\"\u001b[39m\u001b[39m.\u001b[39mjoin([token\u001b[39m.\u001b[39mlemma_ \u001b[39mfor\u001b[39;00m token \u001b[39min\u001b[39;00m doc_text \u001b[39mif\u001b[39;00m \u001b[39mnot\u001b[39;00m(token\u001b[39m.\u001b[39mis_punct) \u001b[39mand\u001b[39;00m \u001b[39mnot\u001b[39;00m(token\u001b[39m.\u001b[39mis_stop)]) \n",
      "File \u001b[1;32mc:\\Python310\\lib\\site-packages\\spacy\\language.py:1011\u001b[0m, in \u001b[0;36mLanguage.__call__\u001b[1;34m(self, text, disable, component_cfg)\u001b[0m\n\u001b[0;32m   1009\u001b[0m     error_handler \u001b[39m=\u001b[39m proc\u001b[39m.\u001b[39mget_error_handler()\n\u001b[0;32m   1010\u001b[0m \u001b[39mtry\u001b[39;00m:\n\u001b[1;32m-> 1011\u001b[0m     doc \u001b[39m=\u001b[39m proc(doc, \u001b[39m*\u001b[39m\u001b[39m*\u001b[39mcomponent_cfg\u001b[39m.\u001b[39mget(name, {}))  \u001b[39m# type: ignore[call-arg]\u001b[39;00m\n\u001b[0;32m   1012\u001b[0m \u001b[39mexcept\u001b[39;00m \u001b[39mKeyError\u001b[39;00m \u001b[39mas\u001b[39;00m e:\n\u001b[0;32m   1013\u001b[0m     \u001b[39m# This typically happens if a component is not initialized\u001b[39;00m\n\u001b[0;32m   1014\u001b[0m     \u001b[39mraise\u001b[39;00m \u001b[39mValueError\u001b[39;00m(Errors\u001b[39m.\u001b[39mE109\u001b[39m.\u001b[39mformat(name\u001b[39m=\u001b[39mname)) \u001b[39mfrom\u001b[39;00m \u001b[39me\u001b[39;00m\n",
      "File \u001b[1;32mc:\\Python310\\lib\\site-packages\\spacy\\pipeline\\trainable_pipe.pyx:52\u001b[0m, in \u001b[0;36mspacy.pipeline.trainable_pipe.TrainablePipe.__call__\u001b[1;34m()\u001b[0m\n",
      "File \u001b[1;32mc:\\Python310\\lib\\site-packages\\spacy\\pipeline\\tok2vec.py:125\u001b[0m, in \u001b[0;36mTok2Vec.predict\u001b[1;34m(self, docs)\u001b[0m\n\u001b[0;32m    123\u001b[0m     width \u001b[39m=\u001b[39m \u001b[39mself\u001b[39m\u001b[39m.\u001b[39mmodel\u001b[39m.\u001b[39mget_dim(\u001b[39m\"\u001b[39m\u001b[39mnO\u001b[39m\u001b[39m\"\u001b[39m)\n\u001b[0;32m    124\u001b[0m     \u001b[39mreturn\u001b[39;00m [\u001b[39mself\u001b[39m\u001b[39m.\u001b[39mmodel\u001b[39m.\u001b[39mops\u001b[39m.\u001b[39malloc((\u001b[39m0\u001b[39m, width)) \u001b[39mfor\u001b[39;00m doc \u001b[39min\u001b[39;00m docs]\n\u001b[1;32m--> 125\u001b[0m tokvecs \u001b[39m=\u001b[39m \u001b[39mself\u001b[39;49m\u001b[39m.\u001b[39;49mmodel\u001b[39m.\u001b[39;49mpredict(docs)\n\u001b[0;32m    126\u001b[0m \u001b[39mreturn\u001b[39;00m tokvecs\n",
      "File \u001b[1;32mc:\\Python310\\lib\\site-packages\\thinc\\model.py:315\u001b[0m, in \u001b[0;36mModel.predict\u001b[1;34m(self, X)\u001b[0m\n\u001b[0;32m    311\u001b[0m \u001b[39mdef\u001b[39;00m \u001b[39mpredict\u001b[39m(\u001b[39mself\u001b[39m, X: InT) \u001b[39m-\u001b[39m\u001b[39m>\u001b[39m OutT:\n\u001b[0;32m    312\u001b[0m     \u001b[39m\"\"\"Call the model's `forward` function with `is_train=False`, and return\u001b[39;00m\n\u001b[0;32m    313\u001b[0m \u001b[39m    only the output, instead of the `(output, callback)` tuple.\u001b[39;00m\n\u001b[0;32m    314\u001b[0m \u001b[39m    \"\"\"\u001b[39;00m\n\u001b[1;32m--> 315\u001b[0m     \u001b[39mreturn\u001b[39;00m \u001b[39mself\u001b[39;49m\u001b[39m.\u001b[39;49m_func(\u001b[39mself\u001b[39;49m, X, is_train\u001b[39m=\u001b[39;49m\u001b[39mFalse\u001b[39;49;00m)[\u001b[39m0\u001b[39m]\n",
      "File \u001b[1;32mc:\\Python310\\lib\\site-packages\\thinc\\layers\\chain.py:55\u001b[0m, in \u001b[0;36mforward\u001b[1;34m(model, X, is_train)\u001b[0m\n\u001b[0;32m     53\u001b[0m callbacks \u001b[39m=\u001b[39m []\n\u001b[0;32m     54\u001b[0m \u001b[39mfor\u001b[39;00m layer \u001b[39min\u001b[39;00m model\u001b[39m.\u001b[39mlayers:\n\u001b[1;32m---> 55\u001b[0m     Y, inc_layer_grad \u001b[39m=\u001b[39m layer(X, is_train\u001b[39m=\u001b[39;49mis_train)\n\u001b[0;32m     56\u001b[0m     callbacks\u001b[39m.\u001b[39mappend(inc_layer_grad)\n\u001b[0;32m     57\u001b[0m     X \u001b[39m=\u001b[39m Y\n",
      "File \u001b[1;32mc:\\Python310\\lib\\site-packages\\thinc\\model.py:291\u001b[0m, in \u001b[0;36mModel.__call__\u001b[1;34m(self, X, is_train)\u001b[0m\n\u001b[0;32m    288\u001b[0m \u001b[39mdef\u001b[39;00m \u001b[39m__call__\u001b[39m(\u001b[39mself\u001b[39m, X: InT, is_train: \u001b[39mbool\u001b[39m) \u001b[39m-\u001b[39m\u001b[39m>\u001b[39m Tuple[OutT, Callable]:\n\u001b[0;32m    289\u001b[0m     \u001b[39m\"\"\"Call the model's `forward` function, returning the output and a\u001b[39;00m\n\u001b[0;32m    290\u001b[0m \u001b[39m    callback to compute the gradients via backpropagation.\"\"\"\u001b[39;00m\n\u001b[1;32m--> 291\u001b[0m     \u001b[39mreturn\u001b[39;00m \u001b[39mself\u001b[39;49m\u001b[39m.\u001b[39;49m_func(\u001b[39mself\u001b[39;49m, X, is_train\u001b[39m=\u001b[39;49mis_train)\n",
      "File \u001b[1;32mc:\\Python310\\lib\\site-packages\\thinc\\layers\\with_array.py:38\u001b[0m, in \u001b[0;36mforward\u001b[1;34m(model, Xseq, is_train)\u001b[0m\n\u001b[0;32m     36\u001b[0m     \u001b[39mreturn\u001b[39;00m model\u001b[39m.\u001b[39mlayers[\u001b[39m0\u001b[39m](Xseq, is_train)\n\u001b[0;32m     37\u001b[0m \u001b[39melse\u001b[39;00m:\n\u001b[1;32m---> 38\u001b[0m     \u001b[39mreturn\u001b[39;00m cast(Tuple[SeqT, Callable], _list_forward(model, Xseq, is_train))\n",
      "File \u001b[1;32mc:\\Python310\\lib\\site-packages\\thinc\\layers\\with_array.py:73\u001b[0m, in \u001b[0;36m_list_forward\u001b[1;34m(model, Xs, is_train)\u001b[0m\n\u001b[0;32m     71\u001b[0m lengths \u001b[39m=\u001b[39m layer\u001b[39m.\u001b[39mops\u001b[39m.\u001b[39masarray1i([\u001b[39mlen\u001b[39m(seq) \u001b[39mfor\u001b[39;00m seq \u001b[39min\u001b[39;00m Xs])\n\u001b[0;32m     72\u001b[0m Xf \u001b[39m=\u001b[39m layer\u001b[39m.\u001b[39mops\u001b[39m.\u001b[39mflatten(Xs, pad\u001b[39m=\u001b[39mpad)\n\u001b[1;32m---> 73\u001b[0m Yf, get_dXf \u001b[39m=\u001b[39m layer(Xf, is_train)\n\u001b[0;32m     75\u001b[0m \u001b[39mdef\u001b[39;00m \u001b[39mbackprop\u001b[39m(dYs: ListXd) \u001b[39m-\u001b[39m\u001b[39m>\u001b[39m ListXd:\n\u001b[0;32m     76\u001b[0m     dYf \u001b[39m=\u001b[39m layer\u001b[39m.\u001b[39mops\u001b[39m.\u001b[39mflatten(dYs, pad\u001b[39m=\u001b[39mpad)\n",
      "File \u001b[1;32mc:\\Python310\\lib\\site-packages\\thinc\\model.py:291\u001b[0m, in \u001b[0;36mModel.__call__\u001b[1;34m(self, X, is_train)\u001b[0m\n\u001b[0;32m    288\u001b[0m \u001b[39mdef\u001b[39;00m \u001b[39m__call__\u001b[39m(\u001b[39mself\u001b[39m, X: InT, is_train: \u001b[39mbool\u001b[39m) \u001b[39m-\u001b[39m\u001b[39m>\u001b[39m Tuple[OutT, Callable]:\n\u001b[0;32m    289\u001b[0m     \u001b[39m\"\"\"Call the model's `forward` function, returning the output and a\u001b[39;00m\n\u001b[0;32m    290\u001b[0m \u001b[39m    callback to compute the gradients via backpropagation.\"\"\"\u001b[39;00m\n\u001b[1;32m--> 291\u001b[0m     \u001b[39mreturn\u001b[39;00m \u001b[39mself\u001b[39;49m\u001b[39m.\u001b[39;49m_func(\u001b[39mself\u001b[39;49m, X, is_train\u001b[39m=\u001b[39;49mis_train)\n",
      "File \u001b[1;32mc:\\Python310\\lib\\site-packages\\thinc\\layers\\chain.py:55\u001b[0m, in \u001b[0;36mforward\u001b[1;34m(model, X, is_train)\u001b[0m\n\u001b[0;32m     53\u001b[0m callbacks \u001b[39m=\u001b[39m []\n\u001b[0;32m     54\u001b[0m \u001b[39mfor\u001b[39;00m layer \u001b[39min\u001b[39;00m model\u001b[39m.\u001b[39mlayers:\n\u001b[1;32m---> 55\u001b[0m     Y, inc_layer_grad \u001b[39m=\u001b[39m layer(X, is_train\u001b[39m=\u001b[39;49mis_train)\n\u001b[0;32m     56\u001b[0m     callbacks\u001b[39m.\u001b[39mappend(inc_layer_grad)\n\u001b[0;32m     57\u001b[0m     X \u001b[39m=\u001b[39m Y\n",
      "File \u001b[1;32mc:\\Python310\\lib\\site-packages\\thinc\\model.py:291\u001b[0m, in \u001b[0;36mModel.__call__\u001b[1;34m(self, X, is_train)\u001b[0m\n\u001b[0;32m    288\u001b[0m \u001b[39mdef\u001b[39;00m \u001b[39m__call__\u001b[39m(\u001b[39mself\u001b[39m, X: InT, is_train: \u001b[39mbool\u001b[39m) \u001b[39m-\u001b[39m\u001b[39m>\u001b[39m Tuple[OutT, Callable]:\n\u001b[0;32m    289\u001b[0m     \u001b[39m\"\"\"Call the model's `forward` function, returning the output and a\u001b[39;00m\n\u001b[0;32m    290\u001b[0m \u001b[39m    callback to compute the gradients via backpropagation.\"\"\"\u001b[39;00m\n\u001b[1;32m--> 291\u001b[0m     \u001b[39mreturn\u001b[39;00m \u001b[39mself\u001b[39;49m\u001b[39m.\u001b[39;49m_func(\u001b[39mself\u001b[39;49m, X, is_train\u001b[39m=\u001b[39;49mis_train)\n",
      "File \u001b[1;32mc:\\Python310\\lib\\site-packages\\thinc\\layers\\residual.py:41\u001b[0m, in \u001b[0;36mforward\u001b[1;34m(model, X, is_train)\u001b[0m\n\u001b[0;32m     38\u001b[0m     \u001b[39melse\u001b[39;00m:\n\u001b[0;32m     39\u001b[0m         \u001b[39mreturn\u001b[39;00m d_output \u001b[39m+\u001b[39m dX\n\u001b[1;32m---> 41\u001b[0m Y, backprop_layer \u001b[39m=\u001b[39m model\u001b[39m.\u001b[39;49mlayers[\u001b[39m0\u001b[39;49m](X, is_train)\n\u001b[0;32m     42\u001b[0m \u001b[39mif\u001b[39;00m \u001b[39misinstance\u001b[39m(X, \u001b[39mlist\u001b[39m):\n\u001b[0;32m     43\u001b[0m     \u001b[39mreturn\u001b[39;00m [X[i] \u001b[39m+\u001b[39m Y[i] \u001b[39mfor\u001b[39;00m i \u001b[39min\u001b[39;00m \u001b[39mrange\u001b[39m(\u001b[39mlen\u001b[39m(X))], backprop\n",
      "File \u001b[1;32mc:\\Python310\\lib\\site-packages\\thinc\\model.py:291\u001b[0m, in \u001b[0;36mModel.__call__\u001b[1;34m(self, X, is_train)\u001b[0m\n\u001b[0;32m    288\u001b[0m \u001b[39mdef\u001b[39;00m \u001b[39m__call__\u001b[39m(\u001b[39mself\u001b[39m, X: InT, is_train: \u001b[39mbool\u001b[39m) \u001b[39m-\u001b[39m\u001b[39m>\u001b[39m Tuple[OutT, Callable]:\n\u001b[0;32m    289\u001b[0m     \u001b[39m\"\"\"Call the model's `forward` function, returning the output and a\u001b[39;00m\n\u001b[0;32m    290\u001b[0m \u001b[39m    callback to compute the gradients via backpropagation.\"\"\"\u001b[39;00m\n\u001b[1;32m--> 291\u001b[0m     \u001b[39mreturn\u001b[39;00m \u001b[39mself\u001b[39;49m\u001b[39m.\u001b[39;49m_func(\u001b[39mself\u001b[39;49m, X, is_train\u001b[39m=\u001b[39;49mis_train)\n",
      "File \u001b[1;32mc:\\Python310\\lib\\site-packages\\thinc\\layers\\chain.py:55\u001b[0m, in \u001b[0;36mforward\u001b[1;34m(model, X, is_train)\u001b[0m\n\u001b[0;32m     53\u001b[0m callbacks \u001b[39m=\u001b[39m []\n\u001b[0;32m     54\u001b[0m \u001b[39mfor\u001b[39;00m layer \u001b[39min\u001b[39;00m model\u001b[39m.\u001b[39mlayers:\n\u001b[1;32m---> 55\u001b[0m     Y, inc_layer_grad \u001b[39m=\u001b[39m layer(X, is_train\u001b[39m=\u001b[39;49mis_train)\n\u001b[0;32m     56\u001b[0m     callbacks\u001b[39m.\u001b[39mappend(inc_layer_grad)\n\u001b[0;32m     57\u001b[0m     X \u001b[39m=\u001b[39m Y\n",
      "File \u001b[1;32mc:\\Python310\\lib\\site-packages\\thinc\\model.py:291\u001b[0m, in \u001b[0;36mModel.__call__\u001b[1;34m(self, X, is_train)\u001b[0m\n\u001b[0;32m    288\u001b[0m \u001b[39mdef\u001b[39;00m \u001b[39m__call__\u001b[39m(\u001b[39mself\u001b[39m, X: InT, is_train: \u001b[39mbool\u001b[39m) \u001b[39m-\u001b[39m\u001b[39m>\u001b[39m Tuple[OutT, Callable]:\n\u001b[0;32m    289\u001b[0m     \u001b[39m\"\"\"Call the model's `forward` function, returning the output and a\u001b[39;00m\n\u001b[0;32m    290\u001b[0m \u001b[39m    callback to compute the gradients via backpropagation.\"\"\"\u001b[39;00m\n\u001b[1;32m--> 291\u001b[0m     \u001b[39mreturn\u001b[39;00m \u001b[39mself\u001b[39;49m\u001b[39m.\u001b[39;49m_func(\u001b[39mself\u001b[39;49m, X, is_train\u001b[39m=\u001b[39;49mis_train)\n",
      "File \u001b[1;32mc:\\Python310\\lib\\site-packages\\thinc\\layers\\chain.py:55\u001b[0m, in \u001b[0;36mforward\u001b[1;34m(model, X, is_train)\u001b[0m\n\u001b[0;32m     53\u001b[0m callbacks \u001b[39m=\u001b[39m []\n\u001b[0;32m     54\u001b[0m \u001b[39mfor\u001b[39;00m layer \u001b[39min\u001b[39;00m model\u001b[39m.\u001b[39mlayers:\n\u001b[1;32m---> 55\u001b[0m     Y, inc_layer_grad \u001b[39m=\u001b[39m layer(X, is_train\u001b[39m=\u001b[39;49mis_train)\n\u001b[0;32m     56\u001b[0m     callbacks\u001b[39m.\u001b[39mappend(inc_layer_grad)\n\u001b[0;32m     57\u001b[0m     X \u001b[39m=\u001b[39m Y\n",
      "    \u001b[1;31m[... skipping similar frames: Model.__call__ at line 291 (1 times)]\u001b[0m\n",
      "File \u001b[1;32mc:\\Python310\\lib\\site-packages\\thinc\\layers\\chain.py:55\u001b[0m, in \u001b[0;36mforward\u001b[1;34m(model, X, is_train)\u001b[0m\n\u001b[0;32m     53\u001b[0m callbacks \u001b[39m=\u001b[39m []\n\u001b[0;32m     54\u001b[0m \u001b[39mfor\u001b[39;00m layer \u001b[39min\u001b[39;00m model\u001b[39m.\u001b[39mlayers:\n\u001b[1;32m---> 55\u001b[0m     Y, inc_layer_grad \u001b[39m=\u001b[39m layer(X, is_train\u001b[39m=\u001b[39;49mis_train)\n\u001b[0;32m     56\u001b[0m     callbacks\u001b[39m.\u001b[39mappend(inc_layer_grad)\n\u001b[0;32m     57\u001b[0m     X \u001b[39m=\u001b[39m Y\n",
      "File \u001b[1;32mc:\\Python310\\lib\\site-packages\\thinc\\model.py:291\u001b[0m, in \u001b[0;36mModel.__call__\u001b[1;34m(self, X, is_train)\u001b[0m\n\u001b[0;32m    288\u001b[0m \u001b[39mdef\u001b[39;00m \u001b[39m__call__\u001b[39m(\u001b[39mself\u001b[39m, X: InT, is_train: \u001b[39mbool\u001b[39m) \u001b[39m-\u001b[39m\u001b[39m>\u001b[39m Tuple[OutT, Callable]:\n\u001b[0;32m    289\u001b[0m     \u001b[39m\"\"\"Call the model's `forward` function, returning the output and a\u001b[39;00m\n\u001b[0;32m    290\u001b[0m \u001b[39m    callback to compute the gradients via backpropagation.\"\"\"\u001b[39;00m\n\u001b[1;32m--> 291\u001b[0m     \u001b[39mreturn\u001b[39;00m \u001b[39mself\u001b[39;49m\u001b[39m.\u001b[39;49m_func(\u001b[39mself\u001b[39;49m, X, is_train\u001b[39m=\u001b[39;49mis_train)\n",
      "File \u001b[1;32mc:\\Python310\\lib\\site-packages\\thinc\\layers\\maxout.py:53\u001b[0m, in \u001b[0;36mforward\u001b[1;34m(model, X, is_train)\u001b[0m\n\u001b[0;32m     51\u001b[0m W \u001b[39m=\u001b[39m model\u001b[39m.\u001b[39mget_param(\u001b[39m\"\u001b[39m\u001b[39mW\u001b[39m\u001b[39m\"\u001b[39m)\n\u001b[0;32m     52\u001b[0m W \u001b[39m=\u001b[39m model\u001b[39m.\u001b[39mops\u001b[39m.\u001b[39mreshape2f(W, nO \u001b[39m*\u001b[39m nP, nI)\n\u001b[1;32m---> 53\u001b[0m Y \u001b[39m=\u001b[39m model\u001b[39m.\u001b[39;49mops\u001b[39m.\u001b[39;49mgemm(X, W, trans2\u001b[39m=\u001b[39;49m\u001b[39mTrue\u001b[39;49;00m)\n\u001b[0;32m     54\u001b[0m Y \u001b[39m+\u001b[39m\u001b[39m=\u001b[39m model\u001b[39m.\u001b[39mops\u001b[39m.\u001b[39mreshape1f(b, nO \u001b[39m*\u001b[39m nP)\n\u001b[0;32m     55\u001b[0m Z \u001b[39m=\u001b[39m model\u001b[39m.\u001b[39mops\u001b[39m.\u001b[39mreshape3f(Y, Y\u001b[39m.\u001b[39mshape[\u001b[39m0\u001b[39m], nO, nP)\n",
      "\u001b[1;31mKeyboardInterrupt\u001b[0m: "
     ]
    }
   ],
   "source": [
    "vocab_normalized = set()\n",
    "# title\n",
    "for title in df['title']:\n",
    "    vocab_normalized.add(nlp_functions.normalize_text(title, lang_model, lemmatizing=True, stop_words=True, numeric=True))\n",
    "\n",
    "# tag\n",
    "for tag in df['tags']:\n",
    "    vocab_normalized.add(nlp_functions.normalize_text(tag, lang_model, lemmatizing=True, stop_words=True, numeric=True))\n",
    "    \n",
    "# description\n",
    "for desc in df['description']:\n",
    "    vocab_normalized.add(nlp_functions.normalize_text(desc, lang_model, lemmatizing=True, stop_words=True, numeric=True))\n",
    "\n",
    "vocab_vectorized = vectorizer.fit_transform(vocab_normalized)  "
=======
   "execution_count": 78,
=======
   "execution_count": null,
>>>>>>> 10441f79247acd685638787c7e29b2740ca23b7a
   "metadata": {},
   "outputs": [],
   "source": [
    "# for title in df['title']:\n",
    "#     print(normalize_text(title, lang_model, lemmatizing=True, stop_words=True))"
>>>>>>> 155963aa01cb9c3f459f00c77f346f169606d1c1
   ]
  },
  {
   "cell_type": "code",
   "execution_count": null,
   "metadata": {},
   "outputs": [],
   "source": []
  }
 ],
 "metadata": {
  "kernelspec": {
   "display_name": "Python 3",
   "language": "python",
   "name": "python3"
  },
  "language_info": {
   "codemirror_mode": {
    "name": "ipython",
    "version": 3
   },
   "file_extension": ".py",
   "mimetype": "text/x-python",
   "name": "python",
   "nbconvert_exporter": "python",
   "pygments_lexer": "ipython3",
   "version": "3.10.10"
  },
  "orig_nbformat": 4,
  "vscode": {
   "interpreter": {
    "hash": "bbf43fdbe75c3b43c25de346718226832bee749c81db05b9242bc1d99d823969"
   }
  }
 },
 "nbformat": 4,
 "nbformat_minor": 2
}
